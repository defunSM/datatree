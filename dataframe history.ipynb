{
 "cells": [
  {
   "cell_type": "code",
   "execution_count": 1,
   "metadata": {},
   "outputs": [],
   "source": [
    "import pandas as pd\n",
    "\n",
    "# working code so far\n",
    "df_hist = []\n",
    "comments = []\n",
    "def df_retriever(i):\n",
    "    print(comments[i])\n",
    "    return df_hist[i]\n",
    "\n",
    "\n",
    "def df_history(x): # x should be a dataframe\n",
    "    z = input(\"Comments: \")\n",
    "    df_hist.append(x)\n",
    "    comments.append(z)"
   ]
  },
  {
   "cell_type": "code",
   "execution_count": 2,
   "metadata": {},
   "outputs": [],
   "source": [
    "# second working code\n",
    "df_hist = []\n",
    "comments = []\n",
    "def df_retriever():\n",
    "    a = len(df_hist)\n",
    "    print(\"Dataframes: \", a)\n",
    "    d = int(input())\n",
    "    print(comments[d])\n",
    "    return df_hist[d]\n",
    "\n",
    "\n",
    "def df_history(x): # x should be a dataframe\n",
    "    z = input(\"Comments: \")\n",
    "    df_hist.append(x)\n",
    "    comments.append(z)"
   ]
  },
  {
   "cell_type": "code",
   "execution_count": 3,
   "metadata": {},
   "outputs": [],
   "source": [
    "# third code\n",
    "df_hist = []\n",
    "comments = []\n",
    "def df_retriever():\n",
    "    a = len(df_hist)\n",
    "    print(\"Dataframes: \", a)\n",
    "    q = 0\n",
    "    for i in comments:\n",
    "        print(q,i)\n",
    "        q+=1\n",
    "    d = int(input())\n",
    "    print(comments[d])\n",
    "    return df_hist[d]\n",
    "\n",
    "\n",
    "def df_history(x): # x should be a dataframe\n",
    "    z = input(\"Comments: \")\n",
    "    df_hist.append(x)\n",
    "    comments.append(z)"
   ]
  },
  {
   "cell_type": "code",
   "execution_count": 5,
   "metadata": {},
   "outputs": [],
   "source": [
    "# full code\n",
    "df_hist = []\n",
    "comments = []\n",
    "def dataframe_info(s): # s is the dataframe\n",
    "    def df_history(x): # x should be a dataframe\n",
    "        z = input(\"Comments: \")\n",
    "        df_hist.append(x)\n",
    "        comments.append(z)\n",
    "    def df_retriever():\n",
    "        a = len(df_hist)\n",
    "        print(\"Dataframes: \", a)\n",
    "        q = 0\n",
    "        for i in comments:\n",
    "            print(q,i)\n",
    "            q+=1\n",
    "    ans = str(input(\"Add Dataframe? (y/n): \"))\n",
    "    if ans=='y':\n",
    "        df_history(s)\n",
    "        ans2 = str(input(\"Access Dataframe? (y/n): \"))\n",
    "        if ans2=='y':\n",
    "            df_retriever()\n",
    "            d = int(input(\"Dataframe number: \"))\n",
    "            return df_hist[d]\n",
    "        else:\n",
    "            print('get back to work')\n",
    "    else:\n",
    "        print('get back to work')"
   ]
  },
  {
   "cell_type": "code",
   "execution_count": null,
   "metadata": {},
   "outputs": [],
   "source": []
  }
 ],
 "metadata": {
  "kernelspec": {
   "display_name": "Python 3",
   "language": "python",
   "name": "python3"
  },
  "language_info": {
   "codemirror_mode": {
    "name": "ipython",
    "version": 3
   },
   "file_extension": ".py",
   "mimetype": "text/x-python",
   "name": "python",
   "nbconvert_exporter": "python",
   "pygments_lexer": "ipython3",
   "version": "3.8.5"
  }
 },
 "nbformat": 4,
 "nbformat_minor": 4
}
